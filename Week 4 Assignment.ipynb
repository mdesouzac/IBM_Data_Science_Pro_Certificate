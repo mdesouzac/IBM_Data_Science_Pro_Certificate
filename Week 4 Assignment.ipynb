{
 "cells": [
  {
   "cell_type": "markdown",
   "id": "6fd692b2",
   "metadata": {},
   "source": [
    "## My Jupyter Notebook on IBM Watson Studio\n"
   ]
  },
  {
   "cell_type": "markdown",
   "id": "f15031cb",
   "metadata": {},
   "source": [
    "**Carolina Moraes de Souza**<br>\n",
    "Process Development Senior Associate"
   ]
  },
  {
   "cell_type": "markdown",
   "id": "a0d44123",
   "metadata": {},
   "source": [
    "*Data science interests me because it stimulates me to look at data more critically. In my opinion it is a critical skill to have nowadays, no matter what you do. Even outside of work these skills can be valuable, considering that today data permeates our everyday life.*"
   ]
  },
  {
   "cell_type": "markdown",
   "id": "ff6dbb84",
   "metadata": {},
   "source": [
    "### This code calculates the volume of a cilindrical vessel based on the chosen diameter and height"
   ]
  },
  {
   "cell_type": "code",
   "execution_count": 16,
   "id": "6fb61b13",
   "metadata": {},
   "outputs": [
    {
     "name": "stdout",
     "output_type": "stream",
     "text": [
      "What is the height of the vessel in cm? \n",
      "2\n",
      "What is the diameter of the vessel in cm? \n",
      "4\n",
      "The volume is 25 mL\n"
     ]
    }
   ],
   "source": [
    "import numpy as np\n",
    "pi=np.pi\n",
    "print('What is the height of the vessel in cm? ')\n",
    "height = int(input())\n",
    "print('What is the diameter of the vessel in cm? ')\n",
    "diameter=int(input())\n",
    "volume = (diameter / 2)**2 * (pi * height)\n",
    "print('The volume is ' + str(int(volume)) + ' mL')"
   ]
  },
  {
   "cell_type": "markdown",
   "id": "90157372",
   "metadata": {},
   "source": [
    "<img src=\"https://encrypted-tbn0.gstatic.com/images?q=tbn:ANd9GcQ-F9ELLlj7OTD_HCXxPl6_ZB3RQK0KnAj6rMSnDGzigtV42K63OeckA4jWNfsCxPDrhC4&usqp=CAU\">\n",
    "<br>\n",
    "The radius is half the size of the diameter, therefore the diameter divided by 2.<br>\n",
    "\n",
    "#### Remember!<br>\n",
    "If the **units** were **not** *explicitly* defined, you <mark>would not be able</mark> to define the final unit of volume of your vessel.<br>\n",
    "<br>\n",
    "Conversion table\n",
    "<br>\n",
    "\n",
    "| cm<sup>3</sup>      | mL |\n",
    "| :---: | :---: |\n",
    "| 1      | 1       |"
   ]
  }
 ],
 "metadata": {
  "kernelspec": {
   "display_name": "Python 3 (ipykernel)",
   "language": "python",
   "name": "python3"
  },
  "language_info": {
   "codemirror_mode": {
    "name": "ipython",
    "version": 3
   },
   "file_extension": ".py",
   "mimetype": "text/x-python",
   "name": "python",
   "nbconvert_exporter": "python",
   "pygments_lexer": "ipython3",
   "version": "3.9.7"
  }
 },
 "nbformat": 4,
 "nbformat_minor": 5
}
